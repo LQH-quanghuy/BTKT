{
  "nbformat": 4,
  "nbformat_minor": 0,
  "metadata": {
    "colab": {
      "name": "Copy of Kiểm-tra-lần-1.ipynb",
      "provenance": [],
      "include_colab_link": true
    },
    "kernelspec": {
      "name": "python3",
      "display_name": "Python 3"
    },
    "language_info": {
      "name": "python"
    }
  },
  "cells": [
    {
      "cell_type": "markdown",
      "metadata": {
        "id": "view-in-github",
        "colab_type": "text"
      },
      "source": [
        "<a href=\"https://colab.research.google.com/github/LQH-quanghuy/BTKT/blob/main/1951040056_KT1.ipynb\" target=\"_parent\"><img src=\"https://colab.research.google.com/assets/colab-badge.svg\" alt=\"Open In Colab\"/></a>"
      ]
    },
    {
      "cell_type": "markdown",
      "metadata": {
        "id": "_rfRjbXlBlMh"
      },
      "source": [
        "**Bài thực hành lập trình lần 1**"
      ]
    },
    {
      "cell_type": "code",
      "metadata": {
        "id": "xlsxTY1o8fGU"
      },
      "source": [
        ""
      ],
      "execution_count": null,
      "outputs": []
    },
    {
      "cell_type": "markdown",
      "metadata": {
        "id": "6pw0PE_oBxet"
      },
      "source": [
        "**Yêu cầu ban đầu**\n",
        "Tạo một file Jupyter notebook với tên <\"MSSV\">_KT1.ipynb và tải lên thư mục trên google drive. Sau đó mở bằng google colab trên trình duyệt."
      ]
    },
    {
      "cell_type": "markdown",
      "metadata": {
        "id": "_9fEJ6-vNdal"
      },
      "source": [
        "**Sau khi làm xong thì lưu file này vào trong thư mục google drive và chia sẻ cho giảng viên đồng thời upload vào trang repo của mình.**\n",
        "\n",
        "\n"
      ]
    },
    {
      "cell_type": "markdown",
      "metadata": {
        "id": "d6s787UyDEfv"
      },
      "source": [
        "Bước 1. Tạo một cell trong jupyter notebook và gõ đoạn code sau để kết nối Jupyter notebook với google drive"
      ]
    },
    {
      "cell_type": "code",
      "metadata": {
        "id": "BjZp1htHDf44",
        "colab": {
          "base_uri": "https://localhost:8080/",
          "height": 350
        },
        "outputId": "d012f14c-63e4-468c-9b02-4443554641cb"
      },
      "source": [
        "from google.colab import drive\n",
        "#mount đến thư mục chứa file <\"MSSV\">_KT1.ipynb, ví dụ /gdrive/myname\n",
        "drive.mount('/gdrive/myname')"
      ],
      "execution_count": null,
      "outputs": [
        {
          "output_type": "error",
          "ename": "ValueError",
          "evalue": "ignored",
          "traceback": [
            "\u001b[0;31m---------------------------------------------------------------------------\u001b[0m",
            "\u001b[0;31mValueError\u001b[0m                                Traceback (most recent call last)",
            "\u001b[0;32m<ipython-input-1-eb7b5a2bbc48>\u001b[0m in \u001b[0;36m<module>\u001b[0;34m()\u001b[0m\n\u001b[1;32m      1\u001b[0m \u001b[0;32mfrom\u001b[0m \u001b[0mgoogle\u001b[0m\u001b[0;34m.\u001b[0m\u001b[0mcolab\u001b[0m \u001b[0;32mimport\u001b[0m \u001b[0mdrive\u001b[0m\u001b[0;34m\u001b[0m\u001b[0;34m\u001b[0m\u001b[0m\n\u001b[1;32m      2\u001b[0m \u001b[0;31m#mount đến thư mục chứa file <\"MSSV\">_KT1.ipynb, ví dụ /gdrive/myname\u001b[0m\u001b[0;34m\u001b[0m\u001b[0;34m\u001b[0m\u001b[0;34m\u001b[0m\u001b[0m\n\u001b[0;32m----> 3\u001b[0;31m \u001b[0mdrive\u001b[0m\u001b[0;34m.\u001b[0m\u001b[0mmount\u001b[0m\u001b[0;34m(\u001b[0m\u001b[0;34m'/gdrive/myname'\u001b[0m\u001b[0;34m)\u001b[0m\u001b[0;34m\u001b[0m\u001b[0;34m\u001b[0m\u001b[0m\n\u001b[0m",
            "\u001b[0;32m/usr/local/lib/python3.7/dist-packages/google/colab/drive.py\u001b[0m in \u001b[0;36mmount\u001b[0;34m(mountpoint, force_remount, timeout_ms, use_metadata_server)\u001b[0m\n\u001b[1;32m    111\u001b[0m       \u001b[0mtimeout_ms\u001b[0m\u001b[0;34m=\u001b[0m\u001b[0mtimeout_ms\u001b[0m\u001b[0;34m,\u001b[0m\u001b[0;34m\u001b[0m\u001b[0;34m\u001b[0m\u001b[0m\n\u001b[1;32m    112\u001b[0m       \u001b[0muse_metadata_server\u001b[0m\u001b[0;34m=\u001b[0m\u001b[0muse_metadata_server\u001b[0m\u001b[0;34m,\u001b[0m\u001b[0;34m\u001b[0m\u001b[0;34m\u001b[0m\u001b[0m\n\u001b[0;32m--> 113\u001b[0;31m       ephemeral=ephemeral)\n\u001b[0m\u001b[1;32m    114\u001b[0m \u001b[0;34m\u001b[0m\u001b[0m\n\u001b[1;32m    115\u001b[0m \u001b[0;34m\u001b[0m\u001b[0m\n",
            "\u001b[0;32m/usr/local/lib/python3.7/dist-packages/google/colab/drive.py\u001b[0m in \u001b[0;36m_mount\u001b[0;34m(mountpoint, force_remount, timeout_ms, use_metadata_server, ephemeral)\u001b[0m\n\u001b[1;32m    197\u001b[0m     \u001b[0mnormed\u001b[0m \u001b[0;34m=\u001b[0m \u001b[0m_os\u001b[0m\u001b[0;34m.\u001b[0m\u001b[0mpath\u001b[0m\u001b[0;34m.\u001b[0m\u001b[0mnormpath\u001b[0m\u001b[0;34m(\u001b[0m\u001b[0mmountpoint\u001b[0m\u001b[0;34m)\u001b[0m\u001b[0;34m\u001b[0m\u001b[0;34m\u001b[0m\u001b[0m\n\u001b[1;32m    198\u001b[0m     \u001b[0;32mif\u001b[0m \u001b[0;34m'/'\u001b[0m \u001b[0;32min\u001b[0m \u001b[0mnormed\u001b[0m \u001b[0;32mand\u001b[0m \u001b[0;32mnot\u001b[0m \u001b[0m_os\u001b[0m\u001b[0;34m.\u001b[0m\u001b[0mpath\u001b[0m\u001b[0;34m.\u001b[0m\u001b[0mexists\u001b[0m\u001b[0;34m(\u001b[0m\u001b[0m_os\u001b[0m\u001b[0;34m.\u001b[0m\u001b[0mpath\u001b[0m\u001b[0;34m.\u001b[0m\u001b[0mdirname\u001b[0m\u001b[0;34m(\u001b[0m\u001b[0mnormed\u001b[0m\u001b[0;34m)\u001b[0m\u001b[0;34m)\u001b[0m\u001b[0;34m:\u001b[0m\u001b[0;34m\u001b[0m\u001b[0;34m\u001b[0m\u001b[0m\n\u001b[0;32m--> 199\u001b[0;31m       \u001b[0;32mraise\u001b[0m \u001b[0mValueError\u001b[0m\u001b[0;34m(\u001b[0m\u001b[0;34m'Mountpoint must be in a directory that exists'\u001b[0m\u001b[0;34m)\u001b[0m\u001b[0;34m\u001b[0m\u001b[0;34m\u001b[0m\u001b[0m\n\u001b[0m\u001b[1;32m    200\u001b[0m   \u001b[0;32mexcept\u001b[0m\u001b[0;34m:\u001b[0m\u001b[0;34m\u001b[0m\u001b[0;34m\u001b[0m\u001b[0m\n\u001b[1;32m    201\u001b[0m     \u001b[0md\u001b[0m\u001b[0;34m.\u001b[0m\u001b[0mkill\u001b[0m\u001b[0;34m(\u001b[0m\u001b[0m_signal\u001b[0m\u001b[0;34m.\u001b[0m\u001b[0mSIGKILL\u001b[0m\u001b[0;34m)\u001b[0m\u001b[0;34m\u001b[0m\u001b[0;34m\u001b[0m\u001b[0m\n",
            "\u001b[0;31mValueError\u001b[0m: Mountpoint must be in a directory that exists"
          ]
        }
      ]
    },
    {
      "cell_type": "markdown",
      "metadata": {
        "id": "6Yag_eufEEHg"
      },
      "source": [
        "**Câu 1:** Viết vào cell dưới đây chương trình Python nhận dữ liệu ngõ vào là một số nguyên dương. Nếu số nhập là số chẵn, sẽ in ra màn hình kết quả đoạn thông báo\"Đây là số chẵn\", nếu là số lẻ sẽ có thông báo \"Đây là số lẻ\""
      ]
    },
    {
      "cell_type": "code",
      "metadata": {
        "id": "F4SKEKRnEBIg",
        "colab": {
          "base_uri": "https://localhost:8080/"
        },
        "outputId": "2f964ac7-59c1-4196-d747-4d86cfdf6268"
      },
      "source": [
        "a = int(input('Nhập số a: '))\n",
        "if a%2 == 0:\n",
        "  print('Đây là số chẵn')\n",
        "else:\n",
        "  print(\"Đây là số lẻ\") "
      ],
      "execution_count": null,
      "outputs": [
        {
          "name": "stdout",
          "output_type": "stream",
          "text": [
            "Bạn hãy nhập vào 1 số nguyên tố duy nhất 5\n"
          ]
        }
      ]
    },
    {
      "cell_type": "markdown",
      "metadata": {
        "id": "z7IJt_RRE8II"
      },
      "source": [
        "**Câu 2**: Viết chương trình nhận số nguyên tố từ bàn phím với thông báo \"Bạn hãy nhập vào 1 số nguyên tố duy nhất\". Nếu đó là số nguyên tố thì dừng, nếu không thì chương trình sẽ liên tục in ra dòng thông báo \"Xin hãy nhập lại: \" để yêu cầu người dùng nhập, và sẽ chỉ kết thúc khi nhận được một số là số nguyên tố"
      ]
    },
    {
      "cell_type": "code",
      "metadata": {
        "id": "XO0ZRAJFBiNr",
        "colab": {
          "base_uri": "https://localhost:8080/"
        },
        "outputId": "24b07b3e-c247-41c3-e128-4683246dc5bf"
      },
      "source": [
        "def KT_songuyento(n):\n",
        "  for i in range(2,n):\n",
        "     if n % i == 0:\n",
        "       return False\n",
        "       return True\n",
        "while True:\n",
        "   n = int(input(\"Hãy nhập vào 1 số nguyên tố duy nhất: \")) \n",
        "   if KT_songuyento(n) == True:\n",
        "       print(\"Đây là số nguyên tố\")\n",
        "   elif KT_songuyento(n) == False:\n",
        "     print(\"Xin hãy nhập lại:\")\n",
        "   else:\n",
        "     break"
      ],
      "execution_count": null,
      "outputs": [
        {
          "name": "stdout",
          "output_type": "stream",
          "text": [
            "Hãy nhập vào 1 số nguyên tố duy nhất: 5\n"
          ]
        }
      ]
    },
    {
      "cell_type": "markdown",
      "metadata": {
        "id": "qFR5oEhrF55C"
      },
      "source": [
        "**Câu 3:** Viết chương trình Python gồm một hàm có đối số là một mảng (list), chương trình sẽ in ra một mảng nghịch đảo thứ tự của mảng đầu vào. Giả sử mảng đầu vào cho trước"
      ]
    },
    {
      "cell_type": "code",
      "metadata": {
        "id": "vDb56hjKGc4L",
        "colab": {
          "base_uri": "https://localhost:8080/"
        },
        "outputId": "6db057d1-0408-4f2c-a984-51a63a663b22"
      },
      "source": [
        "array=[1,2,3,4,5,6]\n",
        "def inverse_array(k):\n",
        "  array.reverse()\n",
        "  print(array)\n",
        "inverse_array(array)"
      ],
      "execution_count": null,
      "outputs": [
        {
          "output_type": "stream",
          "name": "stdout",
          "text": [
            "[6, 5, 4, 3, 2, 1]\n"
          ]
        }
      ]
    },
    {
      "cell_type": "markdown",
      "metadata": {
        "id": "LLQniWZkGqBC"
      },
      "source": [
        "**Câu 4:** Viết chương trình in ra dãy Fibonaci với điều kiện số cuối nhỏ hơn một số nguyên dương cho trước được nhập ban đầu từ bàn phím"
      ]
    },
    {
      "cell_type": "code",
      "metadata": {
        "id": "ZY3aZ7IVGpSc",
        "colab": {
          "base_uri": "https://localhost:8080/"
        },
        "outputId": "71d73dd7-90f0-4a92-97d5-4bd0b8e8edab"
      },
      "source": [
        "import math\n",
        "def fibonacci(n):\n",
        "    if (n < 0):\n",
        "        return -1\n",
        "    elif (n == 0 or n == 1):\n",
        "        return n\n",
        "    else:\n",
        "        return fibonacci(n - 1) + fibonacci(n - 2)\n",
        "\n",
        "n = int(input(\"Nhập một số nguyên dương n = \"))\n",
        "print (\" Các số fibonaci nhỏ hơn\",n)\n",
        "i = 0\n",
        "fin = fibonacci(i)\n",
        "while(fin < n):\n",
        "    fin = fibonacci(i)\n",
        "    if (fin < n):\n",
        "        print(fin)\n",
        "        i = i + 1"
      ],
      "execution_count": null,
      "outputs": [
        {
          "output_type": "stream",
          "name": "stdout",
          "text": [
            "Nhập một số nguyên dương n = 20\n",
            " Các số fibonaci nhỏ hơn 20\n",
            "0\n",
            "1\n",
            "1\n",
            "2\n",
            "3\n",
            "5\n",
            "8\n",
            "13\n"
          ]
        }
      ]
    },
    {
      "cell_type": "markdown",
      "metadata": {
        "id": "Qo8Li1BhHNkC"
      },
      "source": [
        "**Câu 5:** Viết chương trình nhập từ bàn phím một dãy n số phức gồm phần thực và ảo, với n được nhập từ bàn phím. Sau đó in ra màn hình một mảng n phần tử là các module của dãy số phức tương ứng"
      ]
    },
    {
      "cell_type": "code",
      "metadata": {
        "id": "czIWSxB4KlqS"
      },
      "source": [
        "#Khai báo thư viện cmath cho số phức\n",
        "import cmath\n",
        "\n",
        "#Tạo hàm dùng để nhập dãy số phức như mong muốn\n",
        "#GỢI Ý\n",
        "def complex_generator():\n",
        "  #Khởi tạo mảng số phức rỗng\n",
        "  complex_array = []\n",
        "  n=input(\"Nhập số phức: \" )\n",
        "  ....\n",
        "  #tạo vòng lặp trong phần code nay với số lần lặp n như trên\n",
        "  for i in range(int(n)):\n",
        "    # ở mỗi chu kỳ nhận dữ liệu từ bàn phím cho phần ảo và thực (nhập riêng sử dụng lệnh input)\n",
        "    #Nhập phần thực\n",
        "    ... \n",
        "    #Nhập phần ảo\n",
        "    ...\n",
        "    #Thêm vào màng số phức phần tử số phức đã nhập, biết rằng số phức có thể được tạo bởi hàm complex(m,n), với m,n là phần thực ảo tương ứng\n",
        "    complex_array.append(complex(m,n))\n",
        "  #Kết thúc vòng lặp, trả về mảng\n",
        "  return complex_array\n",
        "\n",
        "#Viết hàm thứ hai dùng để tính module số phức\n",
        "#hàm có đối số là số phức c\n",
        "def module_complex(c):\n",
        "  #c.real và c.imag sẽ trả về hai đại lượng thực và ảo tương ứng của số phức c\n",
        "  return cmath.sqrt((c.real)**2+(c.imag)**2).real\n",
        "\n",
        "#Viết chương trình tiếp để gọi hàm khởi tạo bên trên và trả về module tương ứng\n"
      ],
      "execution_count": null,
      "outputs": []
    },
    {
      "cell_type": "markdown",
      "metadata": {
        "id": "iW8HDvwdBjTO"
      },
      "source": [
        ""
      ]
    }
  ]
}